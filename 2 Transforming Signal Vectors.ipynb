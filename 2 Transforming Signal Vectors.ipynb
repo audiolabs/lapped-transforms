{
 "cells": [
  {
   "cell_type": "markdown",
   "metadata": {},
   "source": [
    "# Transforming Lapped Signal Vectors\n",
    "\n",
    "[Nils Werner](https://www.audiolabs-erlangen.de/fau/assistant/werner) and [Bernd Edler](https://www.audiolabs-erlangen.de/fau/professor/edler)\n",
    "\n",
    "[International Audio Laboratories Erlangen](https://www.audiolabs-erlangen.de/)"
   ]
  },
  {
   "cell_type": "code",
   "execution_count": null,
   "metadata": {},
   "outputs": [],
   "source": [
    "import numpy as np\n",
    "import scipy as sp\n",
    "import scipy.signal as ss\n",
    "import scipy.linalg\n",
    "import skimage.util\n",
    "import matplotlib.pyplot as plt\n",
    "import matplotlib.patches as patches\n",
    "import itertools\n",
    "\n",
    "from utils import *"
   ]
  },
  {
   "cell_type": "markdown",
   "metadata": {},
   "source": [
    "In the previous Notebook we briefly investigated lapped transforms by statically analysing their properties.\n",
    "\n",
    "Crucially, we found a matrix that lets us investigate how two frames will interact when analyzed using MDCT.\n",
    "\n",
    "In this Notebook we will see how we can use the introduced matrices to actually transform signals.\n",
    "\n",
    "# Lapped Signal Vectors\n",
    "\n",
    "The first step is to create a view of our data that can directly be transformed by our two-frame analysis matrix.\n",
    "\n",
    "Because we are working with lapped transforms, this view needs to be lapped. In essence we are trying to implement\n",
    "\n",
    "$$\n",
    "\\mathbf{X}_{n,k} = \\vec{x}_{nN+k} \\qquad k = 0, \\dots, LN\n",
    "$$\n",
    "\n",
    "Where $N$ is the framelength and $L$ is the overlap factor (in this case $L=2$). This can efficiently be implemented by modifying the \"stride of an array\", and for NumPy two functions are available:\n",
    "\n",
    "```python\n",
    "skimage.util.view_as_windows()\n",
    "```\n",
    "\n",
    "and\n",
    "\n",
    "```python\n",
    "numpy.lib.stride_tricks.as_strided()\n",
    "```\n",
    "\n",
    "However for convenience we have created several utility functions `lap()`, `unlap()` and others. Please inspect `utils.py` for details.\n",
    "\n",
    "First we will play around with our `lap()` and `unlap()` functions to get a feel for what they do."
   ]
  },
  {
   "cell_type": "code",
   "execution_count": null,
   "metadata": {},
   "outputs": [
    {
     "data": {
      "image/png": "[encoded data removed]",
      "text/plain": [
       "<Figure size 1296x86.4 with 5 Axes>"
      ]
     },
     "metadata": {
      "needs_background": "light"
     },
     "output_type": "display_data"
    }
   ],
   "source": [
    "N = 4\n",
    "L = 2\n",
    "\n",
    "# create input signal\n",
    "x = np.sin(2 * np.pi * np.arange(16) / 44100 * 4400)\n",
    "\n",
    "# cut signal into frames of length N\n",
    "x = x.reshape(-1, N)\n",
    "\n",
    "# create lapped view of x\n",
    "x_lapped = lap(x, L)\n",
    "\n",
    "# reconstruct framed signal from lapped view\n",
    "x_out = unlap(x_lapped, L)\n",
    "\n",
    "# Plot data\n",
    "f, (a, b, c, d, e) = plt.subplots(1, 5, figsize=(18, 1.2))\n",
    "a.imshow(x.ravel()[None, :])\n",
    "a.set_title(\"flattened x\")\n",
    "b.imshow(x)\n",
    "b.set_title(\"x\")\n",
    "c.imshow(x_lapped)\n",
    "c.set_title(\"x_lapped\")\n",
    "d.imshow(x_out)\n",
    "d.set_title(\"x_out\")\n",
    "e.imshow(x_out.ravel()[None, :])\n",
    "e.set_title(\"flattened x_out\")\n",
    "\n",
    "a.add_patch(patches.Rectangle((3.5, -0.5), 4, 1, linewidth=5, edgecolor='red', facecolor='none'))\n",
    "b.add_patch(patches.Rectangle((-0.5, 0.5), 4, 1, linewidth=5, edgecolor='red', facecolor='none'))\n",
    "c.add_patch(patches.Rectangle((3.5, -0.5), 4, 1, linewidth=5, edgecolor='red', facecolor='none'))\n",
    "c.add_patch(patches.Rectangle((-0.5, 0.5), 4, 1, linewidth=5, edgecolor='red', facecolor='none'))\n",
    "d.add_patch(patches.Rectangle((-0.5, 0.5), 4, 1, linewidth=5, edgecolor='red', facecolor='none'))\n",
    "e.add_patch(patches.Rectangle((3.5, -0.5), 4, 1, linewidth=5, edgecolor='red', facecolor='none'))\n",
    "\n",
    "c.annotate('same data', xy=(2, 1), xytext=(5, 2), color='black', arrowprops={'facecolor': 'white', 'shrink': 0.05})\n",
    "c.annotate('', xy=(6, 0), xytext=(5, 1.8), arrowprops={'facecolor': 'white', 'shrink': 0.05})\n",
    "\n",
    "None"
   ]
  },
  {
   "cell_type": "markdown",
   "metadata": {},
   "source": [
    "We can clearly see the right part of each frame in `x_lapped` repeating in the left half of the following frame. In other words: this representation is lapped by exactly 50% (`L=2`).\n",
    "\n",
    "If we were to modify any element in `x_lapped`, the corresponding element in the lapped neighbor would change, too:"
   ]
  },
  {
   "cell_type": "code",
   "execution_count": null,
   "metadata": {},
   "outputs": [
    {
     "data": {
      "image/png": "[encoded data removed]",
      "text/plain": [
       "<Figure size 1296x86.4 with 5 Axes>"
      ]
     },
     "metadata": {
      "needs_background": "light"
     },
     "output_type": "display_data"
    }
   ],
   "source": [
    "N = 4\n",
    "L = 2\n",
    "\n",
    "# create input signal\n",
    "x = np.sin(2 * np.pi * np.arange(16) / 44100 * 4400)\n",
    "\n",
    "# cut signal into frames of length N\n",
    "x = x.reshape(-1, N)\n",
    "\n",
    "# create lapped view of x\n",
    "x_lapped = lap(x, L)\n",
    "\n",
    "x_lapped[0, 6] = np.nan\n",
    "\n",
    "# reconstruct framed signal from lapped view\n",
    "x_out = unlap(x_lapped, L)\n",
    "\n",
    "# Plot data\n",
    "f, (a, b, c, d, e) = plt.subplots(1, 5, figsize=(18, 1.2))\n",
    "a.imshow(x.ravel()[None, :])\n",
    "a.set_title(\"flattened x\")\n",
    "b.imshow(x)\n",
    "b.set_title(\"x\")\n",
    "c.imshow(x_lapped)\n",
    "c.set_title(\"x_lapped\")\n",
    "d.imshow(x_out)\n",
    "d.set_title(\"x_out\")\n",
    "e.imshow(x_out.ravel()[None, :])\n",
    "e.set_title(\"flattened x_out\")\n",
    "\n",
    "a.add_patch(patches.Rectangle((3.5, -0.5), 4, 1, linewidth=5, edgecolor='red', facecolor='none'))\n",
    "b.add_patch(patches.Rectangle((-0.5, 0.5), 4, 1, linewidth=5, edgecolor='red', facecolor='none'))\n",
    "c.add_patch(patches.Rectangle((3.5, -0.5), 4, 1, linewidth=5, edgecolor='red', facecolor='none'))\n",
    "c.add_patch(patches.Rectangle((-0.5, 0.5), 4, 1, linewidth=5, edgecolor='red', facecolor='none'))\n",
    "d.add_patch(patches.Rectangle((-0.5, 0.5), 4, 1, linewidth=5, edgecolor='red', facecolor='none'))\n",
    "e.add_patch(patches.Rectangle((3.5, -0.5), 4, 1, linewidth=5, edgecolor='red', facecolor='none'))\n",
    "\n",
    "c.annotate('same data', xy=(2, 1), xytext=(5, 2), color='black', arrowprops={'facecolor': 'white', 'shrink': 0.05})\n",
    "c.annotate('', xy=(6, 0), xytext=(5, 1.8), arrowprops={'facecolor': 'white', 'shrink': 0.05})\n",
    "\n",
    "None"
   ]
  },
  {
   "cell_type": "markdown",
   "metadata": {},
   "source": [
    "# Lapped Transforms\n",
    "\n",
    "In the previous Notebook, we derived how we can derive matrices that transform two frames at once. We will use those matrices here, so we will quickly recreate them."
   ]
  },
  {
   "cell_type": "code",
   "execution_count": null,
   "metadata": {},
   "outputs": [
    {
     "data": {
      "image/png": "[encoded data removed]",
      "text/plain": [
       "<Figure size 1296x201.6 with 3 Axes>"
      ]
     },
     "metadata": {
      "needs_background": "light"
     },
     "output_type": "display_data"
    }
   ],
   "source": [
    "fl = 16\n",
    "\n",
    "D = dct4(fl)\n",
    "M = mdct(fl) * ss.cosine(2 * fl)\n",
    "tmp = D.T @ M\n",
    "F = make_twoframe(tmp)\n",
    "\n",
    "f, (a, b, c) = plt.subplots(1, 3, figsize=(18, 2.8))\n",
    "a.imshow(D)\n",
    "a.set_title(\"$D$\")\n",
    "b.imshow(M)\n",
    "b.set_title(\"$D$\")\n",
    "c.imshow(F)\n",
    "c.set_title(\"$F(z)$\")\n",
    "None"
   ]
  },
  {
   "cell_type": "markdown",
   "metadata": {},
   "source": [
    "As a test we will try to run the filterbank to analyse and synthesize the input signal, and compare the outputs. In $z$-Domain Polyphase Matrices [2], we would express our operation as\n",
    "\n",
    "$$\n",
    "\\vec{x}_{\\mathrm{out}}(z) = \\mathbf{F}(z)^{-1} \\; \\mathbf{D}^{-1} \\; \\mathbf{D} \\; \\mathbf{F}(z) \\; \\vec{x}(z)\n",
    "$$\n",
    "\n",
    "Every polynomial matrix in this equation  ($\\mathbf{F}(z)$) will be processing more than one frame, so we need to temporarily switch to a lapped memory view using `lap()`. Afterwards, we can remove the overlap again using `unlap()`.\n",
    "\n",
    "Every real matrix in this equation ($D$) will only be processing one frame at a time, so no lapping/unlapping is required."
   ]
  },
  {
   "cell_type": "code",
   "execution_count": null,
   "metadata": {},
   "outputs": [
    {
     "data": {
      "text/plain": [
       "True"
      ]
     },
     "execution_count": 5,
     "metadata": {},
     "output_type": "execute_result"
    }
   ],
   "source": [
    "# create input signal\n",
    "x = np.sin(2 * np.pi * np.arange(2 * fl * 128) / 44100 * 440)\n",
    "\n",
    "# cut signal into frames\n",
    "x = x.reshape(-1, fl)\n",
    "\n",
    "# Time Domain Aliasing, requires lapped view\n",
    "tmp = lap(x)\n",
    "tmp = transform(tmp, F)\n",
    "tmp = unlap(tmp)\n",
    "\n",
    "# DCT-IV, requires single frame only\n",
    "X = transform(tmp, D)\n",
    "x_out = transform(X, D.T)\n",
    "\n",
    "# Time Domain Aliasing Cancellation, requires lapped view\n",
    "x_out = lap(x_out)\n",
    "x_out = transform(x_out, F.T)\n",
    "x_out = unlap(x_out)\n",
    "\n",
    "np.allclose(x, x_out)"
   ]
  },
  {
   "cell_type": "markdown",
   "metadata": {},
   "source": [
    "In the last line we can see that our transform perfectly reconstructs the input signal.\n",
    "\n",
    "In essence, by overlapping our input signal and applying our folding matrix `F` on each overlapping frame, we have reproduced the transform that an infinitely long transform matrix would perform, without the massive amounts of unneccessary zeros in any of our matrices.\n",
    "\n",
    "## Time-Varying Transforms\n",
    "\n",
    "The most common variant of a time-varying MDCT is known as \"**window switching**\" [3]. To implement window switching in this framework, we can simply select the desired transform matrices `F` and `D` for each frame in `x`.\n",
    "\n",
    "For framelengths of `fl_l` and `fl_s`, thee matrices then turn out to be"
   ]
  },
  {
   "cell_type": "code",
   "execution_count": null,
   "metadata": {},
   "outputs": [
    {
     "data": {
      "image/png": "[encoded data removed]",
      "text/plain": [
       "<Figure size 1296x432 with 8 Axes>"
      ]
     },
     "metadata": {
      "needs_background": "light"
     },
     "output_type": "display_data"
    }
   ],
   "source": [
    "fl_l = 16  # \"long\" framelength\n",
    "fl_s = 4   # \"short\" framelength\n",
    "\n",
    "D_l = dct4(fl_l)\n",
    "M_l = mdct(fl_l) * ss.cosine(2 * fl_l)\n",
    "tmp = D_l.T @ M_l\n",
    "F_l = make_twoframe(tmp, trim=True)\n",
    "\n",
    "D_s = dct4(fl_s)\n",
    "M_s = mdct(fl_s) * ss.cosine(2 * fl_s)\n",
    "tmp = D_s.T @ M_s\n",
    "F_s = make_twoframe(tmp, trim=True)\n",
    "\n",
    "D_long = D_l\n",
    "D_short = scipy.linalg.block_diag(*[D_s] * (fl_l // fl_s))\n",
    "\n",
    "F_long = scipy.linalg.block_diag(np.eye(fl_l // 2), F_l, np.eye(fl_l // 2))\n",
    "F_start = scipy.linalg.block_diag(np.eye(fl_l - fl_s // 2), F_s, np.eye(fl_l - fl_s // 2))\n",
    "F_short = scipy.linalg.block_diag(np.eye(fl_s // 2), *[F_s] * (fl_l // fl_s) , np.eye(fl_l - fl_s // 2))\n",
    "F_stop = F_short\n",
    "\n",
    "fig, ((a, b, c, d), (e, f, g, h)) = plt.subplots(2, 4, figsize=(18, 6))\n",
    "a.imshow(D_long)\n",
    "a.set_title(\"$D_\\mathrm{long}$\")\n",
    "b.set_visible(False)\n",
    "c.imshow(D_short)\n",
    "c.set_title(\"$D_\\mathrm{short}$\")\n",
    "d.set_visible(False)\n",
    "\n",
    "e.imshow(F_long)\n",
    "e.set_title(\"$F_\\mathrm{long}$\")\n",
    "f.imshow(F_start)\n",
    "f.set_title(\"$F_\\mathrm{start}$\")\n",
    "g.imshow(F_short)\n",
    "g.set_title(\"$F_\\mathrm{short}$\")\n",
    "h.imshow(F_stop)\n",
    "h.set_title(\"$F_\\mathrm{stop}$\")\n",
    "None"
   ]
  },
  {
   "cell_type": "markdown",
   "metadata": {},
   "source": [
    "Naturally, selecting the correct folding matrix in the correct situation is crucial, so the following rules need to be observed:\n",
    "\n",
    "| Current $D$ | Next $D$ | $\\rightarrow$ Current $F$ |\n",
    "|-------------|----------|---------------------------|\n",
    "| long        | long     | long                      |\n",
    "| long        | short    | start                     |\n",
    "| short       | short    | short                     |\n",
    "| short       | long     | stop                      |\n",
    "\n",
    "\n",
    "# References\n",
    "\n",
    " 1. Werner, Nils and Edler, Bernd, \"[Experimenting with Lapped Transforms in Numerical Computation Libraries using Polyphase Matrices and Strided Memory Views](http://www.aes.org/e-lib/browse.cfm?elib=20381)\". Audio Engineering Society Convention 146, 2019\n",
    " 1. Schuller, G. D. T. and Smith, M. J. T., \"[New framework for modulated perfect reconstruction filter banks](https://ieeexplore.ieee.org/document/533715)\". IEEE Transactions on Signal Processing, 44(8), pp. 1941–1954, 1996, ISSN 1053-587X, doi:10.1109/78.533715.\n",
    " 1. Edler, Bernd, \"[Codierung von Audiosignalen mit überlappender Transformation und adaptiven Fensterfunktionen](https://www.degruyter.com/view/j/freq.1989.43.9/freq.1989.43.9.252/freq.1989.43.9.252.xml)\", Frequenz, Bd. 43, S. 252–256, Sep. 1989."
   ]
  }
 ],
 "metadata": {
  "kernelspec": {
   "display_name": "Python 3",
   "language": "python",
   "name": "python3"
  },
  "language_info": {
   "codemirror_mode": {
    "name": "ipython",
    "version": 3
   },
   "file_extension": ".py",
   "mimetype": "text/x-python",
   "name": "python",
   "nbconvert_exporter": "python",
   "pygments_lexer": "ipython3",
   "version": "3.7.2"
  }
 },
 "nbformat": 4,
 "nbformat_minor": 2
}
